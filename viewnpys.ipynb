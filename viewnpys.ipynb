{
 "cells": [
  {
   "cell_type": "code",
   "execution_count": 4,
   "id": "0bc0293b",
   "metadata": {},
   "outputs": [],
   "source": [
    "import numpy as np"
   ]
  },
  {
   "cell_type": "code",
   "execution_count": 5,
   "id": "fcc1a7ef",
   "metadata": {},
   "outputs": [],
   "source": [
    "npy_file_path = \"_cache/sample_train.npy\""
   ]
  },
  {
   "cell_type": "code",
   "execution_count": 6,
   "id": "7372483e",
   "metadata": {},
   "outputs": [],
   "source": [
    "npy_data = np.load(npy_file_path)"
   ]
  },
  {
   "cell_type": "code",
   "execution_count": 7,
   "id": "fe90b41b",
   "metadata": {},
   "outputs": [
    {
     "name": "stdout",
     "output_type": "stream",
     "text": [
      "Shape of the data: (755, 7, 5000)\n",
      "Data type: float64\n"
     ]
    }
   ],
   "source": [
    "print(\"Shape of the data:\", npy_data.shape)\n",
    "print(\"Data type:\", npy_data.dtype)\n"
   ]
  },
  {
   "cell_type": "code",
   "execution_count": 8,
   "id": "be88aaac",
   "metadata": {},
   "outputs": [
    {
     "name": "stdout",
     "output_type": "stream",
     "text": [
      " rows_X:\n",
      "[[[ 9.260e-01  5.440e-01  7.800e-01 ...  2.028e+00  2.195e+00 -3.340e-01]\n",
      "  [ 2.950e-01  4.790e-01 -5.300e-02 ...  6.358e+00  3.035e+00  2.151e+00]\n",
      "  [ 9.790e-01  2.720e-01 -1.387e+00 ... -8.210e-01  4.613e+00 -1.597e+00]\n",
      "  ...\n",
      "  [-7.600e-02  3.700e-02 -2.900e-02 ... -7.000e-02 -2.200e-02  3.300e-02]\n",
      "  [-1.160e-01  3.600e-02 -3.500e-02 ... -1.150e-01 -7.400e-02  4.000e-03]\n",
      "  [-5.000e-03 -5.000e-03 -5.000e-03 ...  1.830e-01  1.720e-01  1.620e-01]]\n",
      "\n",
      " [[ 9.960e-01  1.327e+00  1.157e+00 ...  1.555e+00  4.226e+00  2.045e+00]\n",
      "  [ 1.102e+00  1.197e+00  1.523e+00 ...  2.713e+00  1.860e+00  1.089e+00]\n",
      "  [ 7.570e-01  8.100e-02 -9.270e-01 ...  2.460e+00 -1.157e+00  1.951e+00]\n",
      "  ...\n",
      "  [-7.100e-02 -2.000e-03 -3.300e-02 ... -5.600e-02  3.900e-02 -9.300e-02]\n",
      "  [-6.500e-02  5.000e-03 -6.000e-02 ... -5.300e-02 -1.200e-02 -8.100e-02]\n",
      "  [-5.000e-03 -4.000e-03 -2.000e-03 ...  2.390e-01  2.290e-01  2.090e-01]]\n",
      "\n",
      " [[ 6.340e-01  4.900e-01  5.020e-01 ...  1.859e+00  4.377e+00  3.656e+00]\n",
      "  [ 2.005e+00  7.380e-01  1.104e+00 ...  3.635e+00  1.102e+01  6.595e+00]\n",
      "  [ 1.286e+00 -1.424e+00  1.353e+00 ...  2.161e+00  4.436e+00 -1.861e+00]\n",
      "  ...\n",
      "  [ 4.500e-02 -1.180e-01 -1.880e-01 ... -1.000e-02  6.200e-02 -3.700e-02]\n",
      "  [ 6.800e-02 -1.210e-01 -1.650e-01 ...  3.800e-02  4.800e-02 -5.000e-02]\n",
      "  [-5.000e-03 -5.000e-03 -3.000e-03 ...  2.150e-01  2.190e-01  2.250e-01]]\n",
      "\n",
      " [[ 6.720e-01 -1.154e+00 -5.960e-01 ...  3.437e+00 -2.550e-01  7.348e+00]\n",
      "  [ 1.315e+00  4.950e-01 -2.080e-01 ...  3.948e+00  3.545e+00  2.721e+00]\n",
      "  [ 3.580e-01 -8.080e-01  8.830e-01 ... -2.033e+00  6.580e+00 -1.980e-01]\n",
      "  ...\n",
      "  [ 4.500e-02 -3.800e-02 -1.210e-01 ...  2.600e-02 -2.450e-01 -2.370e-01]\n",
      "  [ 5.600e-02 -3.900e-02 -9.100e-02 ...  7.800e-02 -5.600e-02 -2.130e-01]\n",
      "  [-5.000e-03 -5.000e-03 -3.000e-03 ...  2.290e-01  2.180e-01  2.360e-01]]]\n"
     ]
    }
   ],
   "source": [
    "print(\" rows_X:\")\n",
    "print(npy_data[1:5])\n"
   ]
  },
  {
   "cell_type": "code",
   "execution_count": null,
   "id": "5c9c3e9f",
   "metadata": {},
   "outputs": [],
   "source": []
  },
  {
   "cell_type": "code",
   "execution_count": null,
   "id": "ea7a0fb5",
   "metadata": {},
   "outputs": [],
   "source": []
  }
 ],
 "metadata": {
  "kernelspec": {
   "display_name": "Python 3 (ipykernel)",
   "language": "python",
   "name": "python3"
  },
  "language_info": {
   "codemirror_mode": {
    "name": "ipython",
    "version": 3
   },
   "file_extension": ".py",
   "mimetype": "text/x-python",
   "name": "python",
   "nbconvert_exporter": "python",
   "pygments_lexer": "ipython3",
   "version": "3.8.16"
  },
  "toc": {
   "base_numbering": 1,
   "nav_menu": {},
   "number_sections": true,
   "sideBar": true,
   "skip_h1_title": false,
   "title_cell": "Table of Contents",
   "title_sidebar": "Contents",
   "toc_cell": false,
   "toc_position": {},
   "toc_section_display": true,
   "toc_window_display": false
  }
 },
 "nbformat": 4,
 "nbformat_minor": 5
}
